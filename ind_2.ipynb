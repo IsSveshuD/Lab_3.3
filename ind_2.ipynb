{
 "cells": [
  {
   "cell_type": "markdown",
   "id": "17901ea2",
   "metadata": {},
   "source": [
    "# Создать ноутбук, в котором будут приведены собственные примеры решения систем линейных уравнений матричным методом и методом Крамера. "
   ]
  },
  {
   "cell_type": "markdown",
   "id": "80ef4215",
   "metadata": {},
   "source": [
    "### Метод Крамера"
   ]
  },
  {
   "cell_type": "code",
   "execution_count": 5,
   "id": "15dee047",
   "metadata": {},
   "outputs": [],
   "source": [
    "import numpy as np"
   ]
  },
  {
   "cell_type": "markdown",
   "id": "c21d3418",
   "metadata": {},
   "source": [
    "Создадим и заполним матрицу рандомными значениями от 0 до 10"
   ]
  },
  {
   "cell_type": "code",
   "execution_count": 6,
   "id": "1e07a149",
   "metadata": {
    "scrolled": true
   },
   "outputs": [
    {
     "name": "stdout",
     "output_type": "stream",
     "text": [
      "[[0 8 5 9]\n",
      " [3 6 5 9]\n",
      " [9 2 9 5]\n",
      " [9 9 4 8]]\n"
     ]
    }
   ],
   "source": [
    "matrix = np.random.randint (0, 10, (4, 4))\n",
    "print(matrix)"
   ]
  },
  {
   "cell_type": "markdown",
   "id": "1d743f95",
   "metadata": {},
   "source": [
    "Найдём определитель"
   ]
  },
  {
   "cell_type": "code",
   "execution_count": 11,
   "id": "f919cd2c",
   "metadata": {
    "scrolled": true
   },
   "outputs": [
    {
     "name": "stdout",
     "output_type": "stream",
     "text": [
      "1368.000000000001\n"
     ]
    }
   ],
   "source": [
    "opred_1 = np.linalg.det(matrix)\n",
    "print(opred_1)"
   ]
  },
  {
   "cell_type": "markdown",
   "id": "6f9e7b73",
   "metadata": {},
   "source": [
    "Заполним рандомными значенями столбец свободных членов"
   ]
  },
  {
   "cell_type": "code",
   "execution_count": 13,
   "id": "a1e6484f",
   "metadata": {},
   "outputs": [
    {
     "name": "stdout",
     "output_type": "stream",
     "text": [
      "[[4]\n",
      " [5]\n",
      " [9]\n",
      " [5]]\n"
     ]
    }
   ],
   "source": [
    "sv = np.random.randint (0, 10, (4, 1))\n",
    "print(sv)\n",
    "x = np.ones((4, 1))"
   ]
  },
  {
   "cell_type": "markdown",
   "id": "6cd54367",
   "metadata": {},
   "source": [
    "Решим матрицу методом Крамера. Скопируем значения в дополнительную матрицу и подставим в неё столбец свободных членов. Затем найдём определителиь"
   ]
  },
  {
   "cell_type": "code",
   "execution_count": 23,
   "id": "b346ebe4",
   "metadata": {},
   "outputs": [
    {
     "name": "stdout",
     "output_type": "stream",
     "text": [
      "[[-0.37214363]\n",
      " [ 1.40152339]\n",
      " [ 1.95429815]\n",
      " [ 0.30903156]]\n"
     ]
    }
   ],
   "source": [
    "t = [0, 1, 2, 3]\n",
    "if opred_1 != 0:\n",
    "    for i in t:\n",
    "        mat_dop = matrix.copy()\n",
    "        mat_dop[:, i] = sv[:, 0]\n",
    "        x[i,0] = np.linalg.det(mat_dop) / opred_1\n",
    "    print(x)\n",
    "else:\n",
    "    print(\"Невозможно решить\")"
   ]
  },
  {
   "cell_type": "markdown",
   "id": "bf356061",
   "metadata": {},
   "source": [
    "### Матричный метод:"
   ]
  },
  {
   "cell_type": "markdown",
   "id": "f0c7566b",
   "metadata": {},
   "source": [
    "Пусть дана система $n$ линейных уравнений с $n$ переменными $(n \\times n)$.<br> Если основная матрица не вырождена, т.е. $\\vert A \\vert \\ne 0$, тогда для матрицы $А$ существует $А^{-1}$. Умножив матричное уравнение на $А^{-1}$ получим: $$X = А^{-1} * B$$"
   ]
  },
  {
   "cell_type": "markdown",
   "id": "754db11c",
   "metadata": {},
   "source": [
    "Создадим и заполним матрицу:"
   ]
  },
  {
   "cell_type": "code",
   "execution_count": 24,
   "id": "a5a09d85",
   "metadata": {},
   "outputs": [
    {
     "name": "stdout",
     "output_type": "stream",
     "text": [
      "[[7 6 9 1]\n",
      " [0 8 6 5]\n",
      " [6 0 6 7]\n",
      " [6 4 5 8]]\n"
     ]
    }
   ],
   "source": [
    "matrix = np.random.randint (0, 10, (4, 4))\n",
    "print(matrix)"
   ]
  },
  {
   "cell_type": "markdown",
   "id": "eef1ad88",
   "metadata": {},
   "source": [
    "Найдём обратную матрицу"
   ]
  },
  {
   "cell_type": "code",
   "execution_count": 25,
   "id": "2597e100",
   "metadata": {
    "scrolled": true
   },
   "outputs": [
    {
     "name": "stdout",
     "output_type": "stream",
     "text": [
      "[[ 0.07933194 -0.15970772 -0.1263048   0.20041754]\n",
      " [ 0.03444676  0.01617954 -0.20615866  0.16597077]\n",
      " [ 0.03757829  0.1085595   0.22964509 -0.27348643]\n",
      " [-0.10020877  0.04384134  0.05427975  0.06263048]]\n"
     ]
    }
   ],
   "source": [
    "mat_inv = np.linalg.inv(matrix)\n",
    "print(mat_inv)"
   ]
  },
  {
   "cell_type": "markdown",
   "id": "72e89e59",
   "metadata": {},
   "source": [
    "Найдём определитель"
   ]
  },
  {
   "cell_type": "code",
   "execution_count": 26,
   "id": "2ce64893",
   "metadata": {},
   "outputs": [
    {
     "name": "stdout",
     "output_type": "stream",
     "text": [
      "1915.9999999999998\n"
     ]
    }
   ],
   "source": [
    "opred_1 = np.linalg.det(matrix)\n",
    "print(opred_1)"
   ]
  },
  {
   "cell_type": "markdown",
   "id": "38c22304",
   "metadata": {},
   "source": [
    "Заполним столбец свободных членов"
   ]
  },
  {
   "cell_type": "code",
   "execution_count": 27,
   "id": "38778c54",
   "metadata": {},
   "outputs": [
    {
     "name": "stdout",
     "output_type": "stream",
     "text": [
      "[[ 6]\n",
      " [ 1]\n",
      " [17]\n",
      " [ 4]]\n"
     ]
    }
   ],
   "source": [
    "sv = np.random.randint (0, 20, (4, 1))\n",
    "print(sv)"
   ]
  },
  {
   "cell_type": "markdown",
   "id": "896fbdd3",
   "metadata": {},
   "source": [
    "Найдём решения СЛАУ, умножив нашу обратную матрицу на столбец свободных членов:"
   ]
  },
  {
   "cell_type": "code",
   "execution_count": 28,
   "id": "2508f711",
   "metadata": {},
   "outputs": [
    {
     "name": "stdout",
     "output_type": "stream",
     "text": [
      "[[-1.02922756]\n",
      " [-2.61795407]\n",
      " [ 3.1440501 ]\n",
      " [ 0.61586639]]\n"
     ]
    }
   ],
   "source": [
    "if opred_1 != 0:\n",
    "    x = mat_inv.dot(sv)\n",
    "    print(x)\n",
    "else: \n",
    "    print(\"Невозможно решить\")"
   ]
  }
 ],
 "metadata": {
  "kernelspec": {
   "display_name": "Python 3 (ipykernel)",
   "language": "python",
   "name": "python3"
  },
  "language_info": {
   "codemirror_mode": {
    "name": "ipython",
    "version": 3
   },
   "file_extension": ".py",
   "mimetype": "text/x-python",
   "name": "python",
   "nbconvert_exporter": "python",
   "pygments_lexer": "ipython3",
   "version": "3.10.9"
  }
 },
 "nbformat": 4,
 "nbformat_minor": 5
}
